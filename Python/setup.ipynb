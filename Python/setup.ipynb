{
 "cells": [
  {
   "cell_type": "code",
   "execution_count": null,
   "metadata": {},
   "outputs": [],
   "source": [
    "!pip3 install pyTigerGraph"
   ]
  },
  {
   "cell_type": "code",
   "execution_count": 3,
   "metadata": {},
   "outputs": [
    {
     "name": "stdout",
     "output_type": "stream",
     "text": [
      "Connected\n"
     ]
    }
   ],
   "source": [
    "import pyTigerGraph as tg\n",
    "import json\n",
    "\n",
    "hostName = \"https://northwind.i.tgcloud.io\"\n",
    "userName = \"tigergraph\"\n",
    "password = \"tigergraph\"\n",
    "\n",
    "conn = tg.TigerGraphConnection(host=hostName, username=userName, password=password)\n",
    "\n",
    "print(\"Connected\")"
   ]
  },
  {
   "cell_type": "markdown",
   "metadata": {},
   "source": [
    "# Create Schema"
   ]
  },
  {
   "cell_type": "markdown",
   "metadata": {},
   "source": [
    "## Create Vertices"
   ]
  },
  {
   "cell_type": "code",
   "execution_count": null,
   "metadata": {},
   "outputs": [],
   "source": [
    "conn.gsql('''\n",
    "CREATE VERTEX Shipper(PRIMARY_ID id INT) WITH STATS=\"OUTDEGREE_BY_EDGETYPE\", PRIMARY_ID_AS_ATTRIBUTE=\"true\"\n",
    "CREATE VERTEX Employee(PRIMARY_ID id INT, lastName STRING, firstName STRING, birthDate DATETIME, hireDate DATETIME, photoPath STRING, salary FLOAT, notes STRING) WITH STATS=\"OUTDEGREE_BY_EDGETYPE\", PRIMARY_ID_AS_ATTRIBUTE=\"true\"\n",
    "CREATE VERTEX City(PRIMARY_ID id STRING) WITH STATS=\"OUTDEGREE_BY_EDGETYPE\", PRIMARY_ID_AS_ATTRIBUTE=\"true\"\n",
    "CREATE VERTEX Region(PRIMARY_ID id STRING, description STRING) WITH STATS=\"OUTDEGREE_BY_EDGETYPE\", PRIMARY_ID_AS_ATTRIBUTE=\"true\"\n",
    "CREATE VERTEX PostalCode(PRIMARY_ID id STRING) WITH STATS=\"OUTDEGREE_BY_EDGETYPE\", PRIMARY_ID_AS_ATTRIBUTE=\"true\"\n",
    "CREATE VERTEX Country(PRIMARY_ID id STRING) WITH STATS=\"OUTDEGREE_BY_EDGETYPE\", PRIMARY_ID_AS_ATTRIBUTE=\"true\"\n",
    "CREATE VERTEX Territory(PRIMARY_ID id STRING, description STRING) WITH STATS=\"OUTDEGREE_BY_EDGETYPE\", PRIMARY_ID_AS_ATTRIBUTE=\"true\"\n",
    "CREATE VERTEX CustomerOrder(PRIMARY_ID id INT, orderDate DATETIME, requiredDate DATETIME, shippedDate DATETIME, shipVia INT, freight STRING, shipName STRING) WITH STATS=\"OUTDEGREE_BY_EDGETYPE\", PRIMARY_ID_AS_ATTRIBUTE=\"true\"\n",
    "CREATE VERTEX Address(PRIMARY_ID id STRING) WITH STATS=\"OUTDEGREE_BY_EDGETYPE\", PRIMARY_ID_AS_ATTRIBUTE=\"true\"\n",
    "CREATE VERTEX Title(PRIMARY_ID id STRING) WITH STATS=\"OUTDEGREE_BY_EDGETYPE\", PRIMARY_ID_AS_ATTRIBUTE=\"true\"\n",
    "CREATE VERTEX TitleOfCourtesy(PRIMARY_ID id STRING) WITH STATS=\"OUTDEGREE_BY_EDGETYPE\", PRIMARY_ID_AS_ATTRIBUTE=\"true\"\n",
    "CREATE VERTEX Customer(PRIMARY_ID id STRING, contactName STRING, contactTitle STRING) WITH STATS=\"OUTDEGREE_BY_EDGETYPE\", PRIMARY_ID_AS_ATTRIBUTE=\"true\"\n",
    "CREATE VERTEX Phone(PRIMARY_ID id STRING, extension STRING) WITH STATS=\"OUTDEGREE_BY_EDGETYPE\", PRIMARY_ID_AS_ATTRIBUTE=\"true\"\n",
    "CREATE VERTEX Fax(PRIMARY_ID id STRING) WITH STATS=\"OUTDEGREE_BY_EDGETYPE\"\n",
    "CREATE VERTEX Product(PRIMARY_ID id INT, productName STRING, qtyPerUnit STRING, unitPrice FLOAT, inStock INT, onOrder INT, reorderLevel INT, discontinued BOOL) WITH STATS=\"OUTDEGREE_BY_EDGETYPE\", PRIMARY_ID_AS_ATTRIBUTE=\"true\"\n",
    "CREATE VERTEX Category(PRIMARY_ID id INT, name STRING, description STRING) WITH STATS=\"OUTDEGREE_BY_EDGETYPE\", PRIMARY_ID_AS_ATTRIBUTE=\"true\"\n",
    "CREATE VERTEX Company(PRIMARY_ID id STRING) WITH STATS=\"OUTDEGREE_BY_EDGETYPE\", PRIMARY_ID_AS_ATTRIBUTE=\"true\"\n",
    "CREATE VERTEX CustomerType(PRIMARY_ID id STRING, customerDescription STRING) WITH STATS=\"OUTDEGREE_BY_EDGETYPE\", PRIMARY_ID_AS_ATTRIBUTE=\"true\"\n",
    "CREATE VERTEX Supplier(PRIMARY_ID id INT, contactName STRING, contactTitle STRING, homePage STRING) WITH STATS=\"OUTDEGREE_BY_EDGETYPE\", PRIMARY_ID_AS_ATTRIBUTE=\"true\"\n",
    "''')"
   ]
  },
  {
   "cell_type": "markdown",
   "metadata": {},
   "source": [
    "## Create Edges"
   ]
  },
  {
   "cell_type": "code",
   "execution_count": null,
   "metadata": {},
   "outputs": [],
   "source": [
    "conn.gsql('''\n",
    "CREATE DIRECTED EDGE reports_to(FROM Employee, TO Employee) WITH REVERSE_EDGE=\"reverse_reports_to\"\n",
    "CREATE UNDIRECTED EDGE in_territory(FROM Employee, TO Territory)\n",
    "CREATE UNDIRECTED EDGE to_region(FROM CustomerOrder, TO Region)\n",
    "CREATE UNDIRECTED EDGE to_country(FROM CustomerOrder, TO Country)\n",
    "CREATE UNDIRECTED EDGE to_postal_code(FROM CustomerOrder, TO PostalCode)\n",
    "CREATE UNDIRECTED EDGE to_city(FROM CustomerOrder, TO City)\n",
    "CREATE UNDIRECTED EDGE to_address(FROM CustomerOrder, TO Address)\n",
    "CREATE UNDIRECTED EDGE has_title(FROM Employee, TO Title)\n",
    "CREATE UNDIRECTED EDGE has_toc(FROM Employee, TO TitleOfCourtesy)\n",
    "CREATE UNDIRECTED EDGE placed_order(FROM Customer, TO CustomerOrder, orderDate DATETIME)\n",
    "CREATE UNDIRECTED EDGE is_category(FROM Product, TO Category)\n",
    "CREATE UNDIRECTED EDGE contains_product(FROM CustomerOrder, TO Product, unitPrice FLOAT, quantity INT, discount DOUBLE)\n",
    "CREATE UNDIRECTED EDGE ship_via(FROM CustomerOrder, TO Shipper)\n",
    "CREATE UNDIRECTED EDGE is_type(FROM Customer, TO CustomerType)\n",
    "CREATE UNDIRECTED EDGE in_city(FROM Employee, TO City|FROM Customer, TO City|FROM Supplier, TO City)\n",
    "CREATE UNDIRECTED EDGE in_region(FROM Territory, TO Region|FROM Employee, TO Region|FROM Customer, TO Region|FROM Supplier, TO Region)\n",
    "CREATE UNDIRECTED EDGE in_postal_code(FROM Employee, TO PostalCode|FROM Customer, TO PostalCode|FROM Supplier, TO PostalCode)\n",
    "CREATE UNDIRECTED EDGE in_country(FROM Employee, TO Country|FROM Customer, TO Country|FROM Supplier, TO Country)\n",
    "CREATE UNDIRECTED EDGE at_address(FROM Employee, TO Address|FROM Customer, TO Address|FROM Supplier, TO Address)\n",
    "CREATE UNDIRECTED EDGE has_fax(FROM Customer, TO Fax|FROM Supplier, TO Fax)\n",
    "CREATE UNDIRECTED EDGE has_phone(FROM Employee, TO Phone|FROM Customer, TO Phone|FROM Shipper, TO Phone|FROM Supplier, TO Phone)\n",
    "CREATE UNDIRECTED EDGE from_company(FROM Shipper, TO Company|FROM Supplier, TO Company)\n",
    "CREATE UNDIRECTED EDGE from_supplier(FROM Product, TO Supplier)\n",
    "CREATE UNDIRECTED EDGE facilitated_order(FROM CustomerOrder, TO Employee)\n",
    "''')"
   ]
  },
  {
   "cell_type": "markdown",
   "metadata": {},
   "source": [
    "## Create Graph"
   ]
  },
  {
   "cell_type": "code",
   "execution_count": null,
   "metadata": {},
   "outputs": [],
   "source": [
    "conn.gsql('''\n",
    "    CREATE GRAPH Northwind(Shipper, Employee, City, Region, PostalCode, Country, Territory, CustomerOrder, Address,\n",
    "      Title, TitleOfCourtesy, Customer, Phone, Fax, Product, Category, Company, CustomerType, Supplier, reports_to, in_territory,\n",
    "      to_region, to_country, to_postal_code, to_city, to_address, has_title, has_toc, placed_order, is_category, contains_product,\n",
    "      ship_via, is_type, in_city, in_region, in_postal_code, in_country, at_address, has_fax, has_phone, from_company, from_supplier, facilitated_order)\n",
    "''')"
   ]
  },
  {
   "cell_type": "markdown",
   "metadata": {},
   "source": [
    "# Reconnect to Solution"
   ]
  },
  {
   "cell_type": "code",
   "execution_count": null,
   "metadata": {},
   "outputs": [],
   "source": [
    "graphName = \"Northwind\"\n",
    "conn.graphname = graphName\n",
    "secret = conn.createSecret()\n",
    "token = conn.getToken(secret, setToken=True)"
   ]
  },
  {
   "cell_type": "markdown",
   "metadata": {},
   "source": [
    "# Load Data"
   ]
  },
  {
   "cell_type": "markdown",
   "metadata": {},
   "source": [
    "## Create Loading Jobs"
   ]
  },
  {
   "cell_type": "code",
   "execution_count": null,
   "metadata": {},
   "outputs": [],
   "source": [
    "results = conn.gsql('''\n",
    "USE GRAPH Northwind\n",
    "BEGIN\n",
    "CREATE LOADING JOB load_job_categories FOR GRAPH Northwind {\n",
    "      DEFINE FILENAME MyDataSource;\n",
    "      LOAD MyDataSource TO VERTEX Category VALUES($0, $1, $2) USING SEPARATOR=\"|\", HEADER=\"true\", EOL=\"\\n\", QUOTE=\"double\";\n",
    "    }\n",
    "END\n",
    "''')"
   ]
  },
  {
   "cell_type": "code",
   "execution_count": null,
   "metadata": {},
   "outputs": [],
   "source": [
    "results = conn.gsql('''\n",
    "USE GRAPH Northwind\n",
    "BEGIN\n",
    "CREATE LOADING JOB load_job_customers FOR GRAPH Northwind {\n",
    "      DEFINE FILENAME MyDataSource;\n",
    "      LOAD MyDataSource TO VERTEX Customer VALUES($0, $2, $3) USING SEPARATOR=\"|\", HEADER=\"true\", EOL=\"\\n\", QUOTE=\"double\";\n",
    "      LOAD MyDataSource TO EDGE has_phone VALUES($0 Customer, $9 Phone) USING SEPARATOR=\"|\", HEADER=\"true\", EOL=\"\\n\", QUOTE=\"double\";\n",
    "      LOAD MyDataSource TO EDGE at_address VALUES($0 Customer, $4 Address) USING SEPARATOR=\"|\", HEADER=\"true\", EOL=\"\\n\", QUOTE=\"double\";\n",
    "      LOAD MyDataSource TO EDGE in_region VALUES($0 Customer, $6 Region) USING SEPARATOR=\"|\", HEADER=\"true\", EOL=\"\\n\", QUOTE=\"double\";\n",
    "      LOAD MyDataSource TO EDGE in_country VALUES($0 Customer, $8 Country) USING SEPARATOR=\"|\", HEADER=\"true\", EOL=\"\\n\", QUOTE=\"double\";\n",
    "      LOAD MyDataSource TO EDGE in_postal_code VALUES($0 Customer, $7 PostalCode) USING SEPARATOR=\"|\", HEADER=\"true\", EOL=\"\\n\", QUOTE=\"double\";\n",
    "      LOAD MyDataSource TO EDGE in_city VALUES($0 Customer, $5 City) USING SEPARATOR=\"|\", HEADER=\"true\", EOL=\"\\n\", QUOTE=\"double\";\n",
    "      LOAD MyDataSource TO EDGE has_fax VALUES($0 Customer, $10 Fax) USING SEPARATOR=\"|\", HEADER=\"true\", EOL=\"\\n\", QUOTE=\"double\";\n",
    "    }\n",
    "END\n",
    "''')"
   ]
  },
  {
   "cell_type": "code",
   "execution_count": null,
   "metadata": {},
   "outputs": [],
   "source": [
    "results = conn.gsql('''\n",
    "USE GRAPH Northwind\n",
    "BEGIN\n",
    "CREATE LOADING JOB load_job_employee_territories FOR GRAPH Northwind {\n",
    "      DEFINE FILENAME MyDataSource;\n",
    "      LOAD MyDataSource TO EDGE in_territory VALUES($0, $1) USING SEPARATOR=\"|\", HEADER=\"true\", EOL=\"\\n\";\n",
    "    }\n",
    "END\n",
    "''')"
   ]
  },
  {
   "cell_type": "code",
   "execution_count": null,
   "metadata": {},
   "outputs": [],
   "source": [
    "results = conn.gsql('''\n",
    "USE GRAPH Northwind\n",
    "BEGIN\n",
    "CREATE LOADING JOB load_job_order_details FOR GRAPH Northwind {\n",
    "      DEFINE FILENAME MyDataSource;\n",
    "      LOAD MyDataSource TO EDGE contains_product VALUES($0, $1, $2, $3, $4) USING SEPARATOR=\"|\", HEADER=\"true\", EOL=\"\\n\", QUOTE=\"double\";\n",
    "    }\n",
    "END\n",
    "''')"
   ]
  },
  {
   "cell_type": "code",
   "execution_count": null,
   "metadata": {},
   "outputs": [],
   "source": [
    "results = conn.gsql('''\n",
    "USE GRAPH Northwind\n",
    "BEGIN\n",
    "CREATE LOADING JOB load_job_employees FOR GRAPH Northwind {\n",
    "      DEFINE FILENAME MyDataSource;\n",
    "      LOAD MyDataSource TO VERTEX Employee VALUES($0, $1, $2, $5, $6, $17, _, $15) USING SEPARATOR=\"|\", HEADER=\"true\", EOL=\"\\n\", QUOTE=\"double\";\n",
    "      LOAD MyDataSource TO EDGE reports_to VALUES($0, $16) USING SEPARATOR=\"|\", HEADER=\"true\", EOL=\"\\n\", QUOTE=\"double\";\n",
    "      LOAD MyDataSource TO EDGE has_toc VALUES($0, $4) USING SEPARATOR=\"|\", HEADER=\"true\", EOL=\"\\n\", QUOTE=\"double\";\n",
    "      LOAD MyDataSource TO EDGE has_title VALUES($0, $3) USING SEPARATOR=\"|\", HEADER=\"true\", EOL=\"\\n\", QUOTE=\"double\";\n",
    "      LOAD MyDataSource TO EDGE has_phone VALUES($0 Employee, $12 Phone) USING SEPARATOR=\"|\", HEADER=\"true\", EOL=\"\\n\", QUOTE=\"double\";\n",
    "      LOAD MyDataSource TO EDGE at_address VALUES($0 Employee, $7 Address) USING SEPARATOR=\"|\", HEADER=\"true\", EOL=\"\\n\", QUOTE=\"double\";\n",
    "      LOAD MyDataSource TO EDGE in_region VALUES($0 Employee, $9 Region) USING SEPARATOR=\"|\", HEADER=\"true\", EOL=\"\\n\", QUOTE=\"double\";\n",
    "      LOAD MyDataSource TO EDGE in_country VALUES($0 Employee, $11 Country) USING SEPARATOR=\"|\", HEADER=\"true\", EOL=\"\\n\", QUOTE=\"double\";\n",
    "      LOAD MyDataSource TO EDGE in_postal_code VALUES($0 Employee, $10 PostalCode) USING SEPARATOR=\"|\", HEADER=\"true\", EOL=\"\\n\", QUOTE=\"double\";\n",
    "      LOAD MyDataSource TO EDGE in_city VALUES($0 Employee, $8 City) USING SEPARATOR=\"|\", HEADER=\"true\", EOL=\"\\n\", QUOTE=\"double\";\n",
    "    }\n",
    "END\n",
    "''')"
   ]
  },
  {
   "cell_type": "code",
   "execution_count": null,
   "metadata": {},
   "outputs": [],
   "source": [
    "results = conn.gsql('''\n",
    "USE GRAPH Northwind\n",
    "BEGIN\n",
    "CREATE LOADING JOB load_job_orders FOR GRAPH Northwind {\n",
    "      DEFINE FILENAME MyDataSource;\n",
    "      LOAD MyDataSource TO VERTEX CustomerOrder VALUES($0, $3, $4, $5, $6, $7, $8) USING SEPARATOR=\"|\", HEADER=\"true\", EOL=\"\\n\", QUOTE=\"double\";\n",
    "      LOAD MyDataSource TO EDGE placed_order VALUES($1, $0, $3) USING SEPARATOR=\"|\", HEADER=\"true\", EOL=\"\\n\", QUOTE=\"double\";\n",
    "      LOAD MyDataSource TO EDGE ship_via VALUES($0, $6) USING SEPARATOR=\"|\", HEADER=\"true\", EOL=\"\\n\", QUOTE=\"double\";\n",
    "      LOAD MyDataSource TO EDGE to_city VALUES($0, $10) USING SEPARATOR=\"|\", HEADER=\"true\", EOL=\"\\n\", QUOTE=\"double\";\n",
    "      LOAD MyDataSource TO EDGE to_postal_code VALUES($0, $12) USING SEPARATOR=\"|\", HEADER=\"true\", EOL=\"\\n\", QUOTE=\"double\";\n",
    "      LOAD MyDataSource TO EDGE to_country VALUES($0, $13) USING SEPARATOR=\"|\", HEADER=\"true\", EOL=\"\\n\", QUOTE=\"double\";\n",
    "      LOAD MyDataSource TO EDGE to_region VALUES($0, $11) USING SEPARATOR=\"|\", HEADER=\"true\", EOL=\"\\n\", QUOTE=\"double\";\n",
    "      LOAD MyDataSource TO EDGE to_address VALUES($0, $9) USING SEPARATOR=\"|\", HEADER=\"true\", EOL=\"\\n\", QUOTE=\"double\";\n",
    "      LOAD MyDataSource TO EDGE facilitated_order VALUES($0, $2) USING SEPARATOR=\"|\", HEADER=\"true\", EOL=\"\\n\", QUOTE=\"double\";\n",
    "    }\n",
    "END\n",
    "''')"
   ]
  },
  {
   "cell_type": "code",
   "execution_count": null,
   "metadata": {},
   "outputs": [],
   "source": [
    "results = conn.gsql('''\n",
    "USE GRAPH Northwind\n",
    "BEGIN\n",
    "CREATE LOADING JOB load_job_products FOR GRAPH Northwind {\n",
    "      DEFINE FILENAME MyDataSource;\n",
    "      LOAD MyDataSource TO VERTEX Product VALUES($0, $1, $4, $5, $6, $7, $8, $9) USING SEPARATOR=\"|\", HEADER=\"true\", EOL=\"\\n\", QUOTE=\"double\";\n",
    "      LOAD MyDataSource TO EDGE is_category VALUES($0, $3) USING SEPARATOR=\"|\", HEADER=\"true\", EOL=\"\\n\", QUOTE=\"double\";\n",
    "      LOAD MyDataSource TO EDGE from_supplier VALUES($0, $2) USING SEPARATOR=\"|\", HEADER=\"true\", EOL=\"\\n\", QUOTE=\"double\";\n",
    "    }\n",
    "END\n",
    "''')"
   ]
  },
  {
   "cell_type": "code",
   "execution_count": null,
   "metadata": {},
   "outputs": [],
   "source": [
    "results = conn.gsql('''\n",
    "USE GRAPH Northwind\n",
    "BEGIN\n",
    "CREATE LOADING JOB load_job_regions FOR GRAPH Northwind {\n",
    "      DEFINE FILENAME MyDataSource;\n",
    "      LOAD MyDataSource TO VERTEX Region VALUES($0, $1) USING SEPARATOR=\"|\", HEADER=\"true\", EOL=\"\\n\", QUOTE=\"double\";\n",
    "    }\n",
    "END\n",
    "''')"
   ]
  },
  {
   "cell_type": "code",
   "execution_count": null,
   "metadata": {},
   "outputs": [],
   "source": [
    "results = conn.gsql('''\n",
    "USE GRAPH Northwind\n",
    "BEGIN\n",
    "CREATE LOADING JOB load_job_shippers FOR GRAPH Northwind {\n",
    "      DEFINE FILENAME MyDataSource;\n",
    "      LOAD MyDataSource TO EDGE from_company VALUES($0 Shipper, $1 Company) USING SEPARATOR=\"|\", HEADER=\"true\", EOL=\"\\n\", QUOTE=\"double\";\n",
    "      LOAD MyDataSource TO EDGE has_phone VALUES($0 Shipper, $2 Phone) USING SEPARATOR=\"|\", HEADER=\"true\", EOL=\"\\n\", QUOTE=\"double\";\n",
    "    }\n",
    "END\n",
    "''')"
   ]
  },
  {
   "cell_type": "code",
   "execution_count": null,
   "metadata": {},
   "outputs": [],
   "source": [
    "results = conn.gsql('''\n",
    "USE GRAPH Northwind\n",
    "BEGIN\n",
    "CREATE LOADING JOB load_job_suppliers FOR GRAPH Northwind {\n",
    "      DEFINE FILENAME MyDataSource;\n",
    "      LOAD MyDataSource TO VERTEX Supplier VALUES($0, $2, $3, $11) USING SEPARATOR=\"|\", HEADER=\"true\", EOL=\"\\n\", QUOTE=\"double\";\n",
    "      LOAD MyDataSource TO EDGE has_fax VALUES($0 Supplier, $10 Fax) USING SEPARATOR=\"|\", HEADER=\"true\", EOL=\"\\n\", QUOTE=\"double\";\n",
    "      LOAD MyDataSource TO EDGE in_city VALUES($0 Supplier, $5 City) USING SEPARATOR=\"|\", HEADER=\"true\", EOL=\"\\n\", QUOTE=\"double\";\n",
    "      LOAD MyDataSource TO EDGE in_postal_code VALUES($0 Supplier, $7 PostalCode) USING SEPARATOR=\"|\", HEADER=\"true\", EOL=\"\\n\", QUOTE=\"double\";\n",
    "      LOAD MyDataSource TO EDGE in_country VALUES($0 Supplier, $8 Country) USING SEPARATOR=\"|\", HEADER=\"true\", EOL=\"\\n\", QUOTE=\"double\";\n",
    "      LOAD MyDataSource TO EDGE in_region VALUES($0 Supplier, $6 Region) USING SEPARATOR=\"|\", HEADER=\"true\", EOL=\"\\n\", QUOTE=\"double\";\n",
    "      LOAD MyDataSource TO EDGE at_address VALUES($0 Supplier, $4 Address) USING SEPARATOR=\"|\", HEADER=\"true\", EOL=\"\\n\", QUOTE=\"double\";\n",
    "      LOAD MyDataSource TO EDGE has_phone VALUES($0 Supplier, $9 Phone) USING SEPARATOR=\"|\", HEADER=\"true\", EOL=\"\\n\", QUOTE=\"double\";\n",
    "      LOAD MyDataSource TO EDGE from_company VALUES($0 Supplier, $1 Company) USING SEPARATOR=\"|\", HEADER=\"true\", EOL=\"\\n\", QUOTE=\"double\";\n",
    "    }\n",
    "END\n",
    "''')"
   ]
  },
  {
   "cell_type": "code",
   "execution_count": null,
   "metadata": {},
   "outputs": [],
   "source": [
    "results = conn.gsql('''\n",
    "USE GRAPH Northwind\n",
    "BEGIN\n",
    "CREATE LOADING JOB load_job_territories FOR GRAPH Northwind {\n",
    "      DEFINE FILENAME MyDataSource;\n",
    "      LOAD MyDataSource TO VERTEX Territory VALUES($0, $1) USING SEPARATOR=\"|\", HEADER=\"true\", EOL=\"\\n\", QUOTE=\"double\";\n",
    "      LOAD MyDataSource TO EDGE in_region VALUES($0 Territory, $2 Region) USING SEPARATOR=\"|\", HEADER=\"true\", EOL=\"\\n\", QUOTE=\"double\";\n",
    "    }\n",
    "END\n",
    "''')"
   ]
  },
  {
   "cell_type": "markdown",
   "metadata": {},
   "source": [
    "## Running Loading Jobs"
   ]
  },
  {
   "cell_type": "markdown",
   "metadata": {},
   "source": [
    "### Each Loading Job"
   ]
  },
  {
   "cell_type": "code",
   "execution_count": null,
   "metadata": {},
   "outputs": [],
   "source": [
    "categories_file = \"./data/categories.csv\"\n",
    "res = conn.uploadFile(categories_file, fileTag='MyDataSource', jobName='load_job_categories')\n",
    "print(json.dumps(results, indent=2))"
   ]
  },
  {
   "cell_type": "code",
   "execution_count": null,
   "metadata": {},
   "outputs": [],
   "source": [
    "customers_file = \"./data/customers.csv\"\n",
    "res = conn.uploadFile(customers_file, fileTag='MyDataSource', jobName='load_job_customers')\n",
    "print(json.dumps(results, indent=2))"
   ]
  },
  {
   "cell_type": "code",
   "execution_count": null,
   "metadata": {},
   "outputs": [],
   "source": [
    "employee_territories_file = \"./data/employee_territories.csv\"\n",
    "res = conn.uploadFile(employee_territories_file, fileTag='MyDataSource', jobName='load_job_employee_territories')\n",
    "print(json.dumps(results, indent=2))"
   ]
  },
  {
   "cell_type": "code",
   "execution_count": null,
   "metadata": {},
   "outputs": [],
   "source": [
    "order_details_file = \"./data/order_details.csv\"\n",
    "res = conn.uploadFile(order_details_file, fileTag='MyDataSource', jobName='load_job_order_details')\n",
    "print(json.dumps(results, indent=2))"
   ]
  },
  {
   "cell_type": "code",
   "execution_count": null,
   "metadata": {},
   "outputs": [],
   "source": [
    "employees_file = \"./data/employees.csv\"\n",
    "res = conn.uploadFile(employees_file, fileTag='MyDataSource', jobName='load_job_employees')\n",
    "print(json.dumps(results, indent=2))"
   ]
  },
  {
   "cell_type": "code",
   "execution_count": null,
   "metadata": {},
   "outputs": [],
   "source": [
    "orders_file = \"./data/orders.csv\"\n",
    "res = conn.uploadFile(orders_file, fileTag='MyDataSource', jobName='load_job_orders')\n",
    "print(json.dumps(results, indent=2))"
   ]
  },
  {
   "cell_type": "code",
   "execution_count": null,
   "metadata": {},
   "outputs": [],
   "source": [
    "products_file = \"./data/products.csv\"\n",
    "res = conn.uploadFile(products_file, fileTag='MyDataSource', jobName='load_job_products')\n",
    "print(json.dumps(results, indent=2))"
   ]
  },
  {
   "cell_type": "code",
   "execution_count": null,
   "metadata": {},
   "outputs": [],
   "source": [
    "regions_file = \"./data/regions.csv\"\n",
    "res = conn.uploadFile(regions_file, fileTag='MyDataSource', jobName='load_job_regions')\n",
    "print(json.dumps(results, indent=2))"
   ]
  },
  {
   "cell_type": "code",
   "execution_count": null,
   "metadata": {},
   "outputs": [],
   "source": [
    "shippers_file = \"./data/shippers.csv\"\n",
    "res = conn.uploadFile(shippers_file, fileTag='MyDataSource', jobName='load_job_shippers')\n",
    "print(json.dumps(results, indent=2))"
   ]
  },
  {
   "cell_type": "code",
   "execution_count": null,
   "metadata": {},
   "outputs": [],
   "source": [
    "suppliers_file = \"./data/suppliers.csv\"\n",
    "res = conn.uploadFile(suppliers_file, fileTag='MyDataSource', jobName='load_job_suppliers')\n",
    "print(json.dumps(results, indent=2))"
   ]
  },
  {
   "cell_type": "code",
   "execution_count": null,
   "metadata": {},
   "outputs": [],
   "source": [
    "territories_file = \"./data/territories.csv\"\n",
    "res = conn.uploadFile(territories_file, fileTag='MyDataSource', jobName='load_job_territories')\n",
    "print(json.dumps(results, indent=2))"
   ]
  },
  {
   "cell_type": "markdown",
   "metadata": {},
   "source": [
    "# Running Queries"
   ]
  },
  {
   "cell_type": "markdown",
   "metadata": {},
   "source": [
    "## Interpreting Queries"
   ]
  },
  {
   "cell_type": "markdown",
   "metadata": {},
   "source": [
    "### Subtotal of an Order\n",
    "`Price * Quantity * (1 - Discount)` for each item in the given order."
   ]
  },
  {
   "cell_type": "code",
   "execution_count": null,
   "metadata": {},
   "outputs": [],
   "source": [
    "conn.runInterpretedQuery(\"\"\"\n",
    "INTERPRET QUERY get_order_subtotals(VERTEX<CustomerOrder> inOrder) FOR GRAPH Northwind { \n",
    "  \n",
    "  SumAccum<FLOAT> @subtotal;\n",
    "  \n",
    "  thisOrder = {inOrder};\n",
    "  \n",
    "  results = SELECT o FROM thisOrder:o - (contains_product:e) - Product\n",
    "    ACCUM\n",
    "      o.@subtotal += e.unitPrice * e.quantity * (1.0 - e.discount);\n",
    "  \n",
    "  PRINT results [results.@subtotal] AS results;\n",
    "}\n",
    "\"\"\", params={ \"inOrder\": \"11042\" }\n",
    ")"
   ]
  },
  {
   "cell_type": "markdown",
   "metadata": {},
   "source": [
    "### Sales by Year\n",
    "Get all sales subtotals within a given year."
   ]
  },
  {
   "cell_type": "code",
   "execution_count": null,
   "metadata": {},
   "outputs": [],
   "source": [
    "conn.runInterpretedQuery(\"\"\"\n",
    "INTERPRET QUERY get_sales_by_year(int in_year) FOR GRAPH Northwind { \n",
    "\n",
    "  SumAccum<FLOAT> @subtotal;\n",
    "  \n",
    "  cust_orders = {CustomerOrder.*};\n",
    "  \n",
    "  results = SELECT o FROM cust_orders:o - (contains_product:e) - Product\n",
    "    WHERE\n",
    "      year(o.shippedDate) == in_year\n",
    "    ACCUM\n",
    "      o.@subtotal += e.unitPrice * e.quantity * (1.0 - e.discount)\n",
    "    ORDER BY\n",
    "      o.shippedDate;\n",
    "  \n",
    "  PRINT results [results.shippedDate, results.@subtotal, year(results.shippedDate)];\n",
    "}\n",
    "\"\"\", params={ \"inYear\": \"1997\" }\n",
    ")"
   ]
  },
  {
   "cell_type": "markdown",
   "metadata": {},
   "source": [
    "### Employee Sales by Country\n",
    "Get all employees sales subtotal in a given Country."
   ]
  },
  {
   "cell_type": "code",
   "execution_count": null,
   "metadata": {},
   "outputs": [],
   "source": [
    "conn.runInterpretedQuery(\"\"\"\n",
    "CREATE QUERY get_employee_sales_by_country(VERTEX<Country> in_cont) FOR GRAPH Northwind SYNTAX v2{ \n",
    "  \n",
    "  country = {in_cont};\n",
    "  \n",
    "  SumAccum<FLOAT> @subtotal;\n",
    "  \n",
    "  orders = SELECT o FROM country:c - (to_country) - CustomerOrder:o;\n",
    "  \n",
    "  subs = SELECT o FROM orders:o - (contains_product:e) - Product\n",
    "    ACCUM\n",
    "      o.@subtotal += e.unitPrice * e.quantity * (1.0 - e.discount);\n",
    "    \n",
    "  results = SELECT e FROM country:c - (to_country) - CustomerOrder:o - (facilitated_order) - Employee:e\n",
    "    ACCUM\n",
    "      e.@subtotal += o.@subtotal;\n",
    "  \n",
    "  PRINT country;\n",
    "  PRINT results [results.firstName, results.lastName, results.@subtotal];\n",
    "  \n",
    "}\n",
    "\"\"\", params={ \"in_cont\": \"USA\" }\n",
    ")"
   ]
  },
  {
   "cell_type": "markdown",
   "metadata": {},
   "source": [
    "### Alphabetical Products\n",
    "List all products in alphabetical order."
   ]
  },
  {
   "cell_type": "code",
   "execution_count": null,
   "metadata": {},
   "outputs": [],
   "source": [
    "conn.runInterpretedQuery(\"\"\"\n",
    "CREATE QUERY alphabetical_products() FOR GRAPH Northwind { \n",
    "  products = {Product.*};\n",
    "  \n",
    "  results = SELECT p FROM products:p\n",
    "    ORDER BY\n",
    "      p.productName ASC;\n",
    "  \n",
    "  PRINT results;\n",
    "}\n",
    "\"\"\")"
   ]
  },
  {
   "cell_type": "markdown",
   "metadata": {},
   "source": [
    "### Current Products\n",
    "Get all products that aren't discontinued."
   ]
  },
  {
   "cell_type": "code",
   "execution_count": null,
   "metadata": {},
   "outputs": [],
   "source": [
    "conn.runInterpretedQuery(\"\"\"\n",
    "CREATE QUERY get_current_product_list() FOR GRAPH Northwind { \n",
    "  \n",
    "  products = {Product.*};\n",
    "  \n",
    "  results = SELECT p FROM products:p\n",
    "    WHERE\n",
    "      p.discontinued == FALSE\n",
    "    ORDER BY\n",
    "      p.productName ASC;\n",
    "  \n",
    "  PRINT results [results.id, results.productName];\n",
    "}\n",
    "\"\"\")"
   ]
  },
  {
   "cell_type": "markdown",
   "metadata": {},
   "source": [
    "### Extended Order Details\n",
    "Get the details of each product for each order."
   ]
  },
  {
   "cell_type": "code",
   "execution_count": null,
   "metadata": {},
   "outputs": [],
   "source": [
    "conn.runInterpretedQuery(\"\"\"\n",
    "CREATE QUERY get_order_details_extended() FOR GRAPH Northwind { \n",
    "  TYPEDEF TUPLE <INT product_id, STRING product_name, FLOAT unit_price, INT qty, FLOAT discnt, FLOAT ext_price> product_details;\n",
    "  c_order = {CustomerOrder.*};\n",
    "  \n",
    "  MapAccum<VERTEX<Product>, product_details> @extended_price;\n",
    "  \n",
    "  results = SELECT o FROM c_order:o - (:e) - Product:p\n",
    "    ACCUM\n",
    "      FLOAT extended_price = e.unitPrice * e.quantity * (1 - e.discount),\n",
    "      o.@extended_price += (p -> product_details(p.id, p.productName, e.unitPrice, e.quantity, e.discount, extended_price))\n",
    "    ORDER BY\n",
    "      o.id ASC;\n",
    "  \n",
    "  PRINT results [results.id, results.@extended_price];\n",
    "}\n",
    "\"\"\")"
   ]
  }
 ],
 "metadata": {
  "interpreter": {
   "hash": "aee8b7b246df8f9039afb4144a1f6fd8d2ca17a180786b69acc140d282b71a49"
  },
  "kernelspec": {
   "display_name": "Python 3.9.7 64-bit",
   "language": "python",
   "name": "python3"
  },
  "language_info": {
   "codemirror_mode": {
    "name": "ipython",
    "version": 3
   },
   "file_extension": ".py",
   "mimetype": "text/x-python",
   "name": "python",
   "nbconvert_exporter": "python",
   "pygments_lexer": "ipython3",
   "version": "3.9.7"
  },
  "orig_nbformat": 4
 },
 "nbformat": 4,
 "nbformat_minor": 2
}
